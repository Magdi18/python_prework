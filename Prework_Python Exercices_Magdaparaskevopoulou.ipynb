{
 "cells": [
  {
   "cell_type": "code",
   "execution_count": 3,
   "id": "902ca956-c003-4d99-ab50-5873d49861d1",
   "metadata": {},
   "outputs": [],
   "source": [
    "num1 = 5\n",
    "num2 = 225\n",
    "result = num1 + num2"
   ]
  },
  {
   "cell_type": "code",
   "execution_count": 5,
   "id": "78136b3b-4cb9-45dd-abcb-341125ed6274",
   "metadata": {
    "scrolled": true
   },
   "outputs": [
    {
     "name": "stdout",
     "output_type": "stream",
     "text": [
      "the result is: 230\n"
     ]
    }
   ],
   "source": [
    "print(\"the result is:\" , result)"
   ]
  },
  {
   "cell_type": "code",
   "execution_count": 7,
   "id": "eb25eee3-9b6f-4f1a-99cc-6bffb7f575b3",
   "metadata": {},
   "outputs": [
    {
     "name": "stdout",
     "output_type": "stream",
     "text": [
      "2.3333333333333335\n"
     ]
    }
   ],
   "source": [
    "print(7/3)"
   ]
  },
  {
   "cell_type": "code",
   "execution_count": 9,
   "id": "009a2f42-94ce-4376-be42-27b1634fcd8b",
   "metadata": {},
   "outputs": [
    {
     "name": "stdout",
     "output_type": "stream",
     "text": [
      "2\n"
     ]
    }
   ],
   "source": [
    "print(7//3)"
   ]
  },
  {
   "cell_type": "code",
   "execution_count": 11,
   "id": "16a7f1e4-9d3d-4522-ac08-607f8c66728a",
   "metadata": {
    "scrolled": true
   },
   "outputs": [
    {
     "name": "stdout",
     "output_type": "stream",
     "text": [
      "1\n"
     ]
    }
   ],
   "source": [
    "print(7%3)"
   ]
  },
  {
   "cell_type": "code",
   "execution_count": 13,
   "id": "105bb0ad-18bc-44bd-a026-1bce003c4d34",
   "metadata": {},
   "outputs": [
    {
     "name": "stdout",
     "output_type": "stream",
     "text": [
      "----------------------------------------\n"
     ]
    }
   ],
   "source": [
    "print(\"-\" * 40)"
   ]
  },
  {
   "cell_type": "code",
   "execution_count": 15,
   "id": "2f4b6d52-77c5-47d6-839d-fcb1d2d10cca",
   "metadata": {},
   "outputs": [],
   "source": [
    "text=\"John=is-a-great web developer\\t    \""
   ]
  },
  {
   "cell_type": "code",
   "execution_count": 29,
   "id": "c0314e1f-8536-470b-a327-36f0ecba662e",
   "metadata": {},
   "outputs": [
    {
     "name": "stdout",
     "output_type": "stream",
     "text": [
      "John is a great web developer\t    \n"
     ]
    }
   ],
   "source": [
    "new_text=text.replace('=', ' ').replace('-', ' ')\n",
    "print(new_text)"
   ]
  },
  {
   "cell_type": "code",
   "execution_count": 31,
   "id": "0cbb7b83-943e-4604-8d9a-0c58e3f5edb1",
   "metadata": {
    "scrolled": true
   },
   "outputs": [
    {
     "name": "stdin",
     "output_type": "stream",
     "text": [
      "Please enter your first name:  george\n",
      "Please enter your last name:  stratos\n",
      "Please enter your age:  32\n",
      "Please enter your occupation:  data analyst\n"
     ]
    }
   ],
   "source": [
    "first_name= input('Please enter your first name: ')\n",
    "last_name= input('Please enter your last name: ')\n",
    "age= input('Please enter your age: ')\n",
    "occupation= input('Please enter your occupation: ')"
   ]
  },
  {
   "cell_type": "code",
   "execution_count": 33,
   "id": "e1920f8a-9e75-41ae-8b14-f46d11a82e22",
   "metadata": {
    "scrolled": true
   },
   "outputs": [
    {
     "name": "stdout",
     "output_type": "stream",
     "text": [
      "New user george stratos, 32 years old, data analyst, has been registered in the system.\n"
     ]
    }
   ],
   "source": [
    "print(f\"New user {first_name} {last_name}, {age} years old, {occupation}, has been registered in the system.\")"
   ]
  },
  {
   "cell_type": "code",
   "execution_count": 35,
   "id": "4af36f1e-9143-4f46-88f5-a63c9a8e4e70",
   "metadata": {},
   "outputs": [
    {
     "name": "stdout",
     "output_type": "stream",
     "text": [
      "10\n",
      "20\n",
      "30\n",
      "40\n",
      "50\n",
      "60\n",
      "70\n",
      "80\n",
      "90\n",
      "100\n"
     ]
    }
   ],
   "source": [
    "for i in range(1, 11):\n",
    "    print(i*10)"
   ]
  },
  {
   "cell_type": "code",
   "execution_count": 53,
   "id": "d69eaf69-7bba-4bd8-a4d3-d724eac04e5d",
   "metadata": {},
   "outputs": [],
   "source": [
    "x = [3,5,23,6,7]\n",
    "result=1"
   ]
  },
  {
   "cell_type": "code",
   "execution_count": 51,
   "id": "8e50ede7-cdaf-41c3-9d28-851883924675",
   "metadata": {},
   "outputs": [],
   "source": [
    "for num in x:\n",
    "    result *= num"
   ]
  },
  {
   "cell_type": "code",
   "execution_count": 43,
   "id": "5a7f08b9-0a54-459f-a79f-5c832a955378",
   "metadata": {},
   "outputs": [
    {
     "name": "stdout",
     "output_type": "stream",
     "text": [
      "14490\n"
     ]
    }
   ],
   "source": [
    "print(result)"
   ]
  },
  {
   "cell_type": "code",
   "execution_count": 65,
   "id": "67c6d2ea-d262-49b9-ab56-f4dba31f8349",
   "metadata": {
    "scrolled": true
   },
   "outputs": [
    {
     "name": "stdin",
     "output_type": "stream",
     "text": [
      "Enter an integer:  8\n"
     ]
    }
   ],
   "source": [
    "n = int(input(\"Enter an integer: \"))"
   ]
  },
  {
   "cell_type": "code",
   "execution_count": 83,
   "id": "4f29483f-d56b-44ae-ac2a-ad5839d613f2",
   "metadata": {},
   "outputs": [],
   "source": [
    "total=0"
   ]
  },
  {
   "cell_type": "code",
   "execution_count": 87,
   "id": "857af672-2f05-44de-827e-acff4561a59c",
   "metadata": {},
   "outputs": [],
   "source": [
    "for num in range(1,n + 1):\n",
    "    total+=num"
   ]
  },
  {
   "cell_type": "code",
   "execution_count": 89,
   "id": "d4841a22-78dd-4dac-be5f-2b6af6a9a2d0",
   "metadata": {
    "scrolled": true
   },
   "outputs": [
    {
     "name": "stdout",
     "output_type": "stream",
     "text": [
      "36\n"
     ]
    }
   ],
   "source": [
    "print(total)"
   ]
  },
  {
   "cell_type": "code",
   "execution_count": 91,
   "id": "4eda68d8-9ca2-4de1-897c-7d9303f8ca8e",
   "metadata": {},
   "outputs": [],
   "source": [
    "x = [44,32,65,77,12,86]"
   ]
  },
  {
   "cell_type": "code",
   "execution_count": 101,
   "id": "27e35bc7-c855-44d8-915c-773876648cb8",
   "metadata": {},
   "outputs": [],
   "source": [
    "sorted_x = sorted(x)"
   ]
  },
  {
   "cell_type": "code",
   "execution_count": 103,
   "id": "d3c78f25-e6f3-4dff-a33f-ef9e6ffa133c",
   "metadata": {
    "scrolled": true
   },
   "outputs": [
    {
     "data": {
      "text/plain": [
       "[12, 32, 44, 65, 77, 86]"
      ]
     },
     "execution_count": 103,
     "metadata": {},
     "output_type": "execute_result"
    }
   ],
   "source": [
    "sorted_x"
   ]
  },
  {
   "cell_type": "code",
   "execution_count": 105,
   "id": "aa87bcea-523d-4e5b-b21e-8bf338e823bd",
   "metadata": {},
   "outputs": [
    {
     "data": {
      "text/plain": [
       "77"
      ]
     },
     "execution_count": 105,
     "metadata": {},
     "output_type": "execute_result"
    }
   ],
   "source": [
    "sorted_x[4]"
   ]
  },
  {
   "cell_type": "code",
   "execution_count": 107,
   "id": "b2a1f0ad-6338-43fd-b27d-7d4046e15fce",
   "metadata": {},
   "outputs": [],
   "source": [
    "fruits = ['Apple', 'Grapes', 'Berry', 'Orange']"
   ]
  },
  {
   "cell_type": "code",
   "execution_count": 139,
   "id": "d3eeebe1-b8dc-46c6-82ee-d70326cce937",
   "metadata": {},
   "outputs": [
    {
     "name": "stdout",
     "output_type": "stream",
     "text": [
      "Apple-Grapes-Berry-Orange\n"
     ]
    }
   ],
   "source": [
    "joined_fruits = '-'.join(fruits)\n",
    "print(joined_fruits)"
   ]
  },
  {
   "cell_type": "code",
   "execution_count": 141,
   "id": "913676ef-4e46-4716-a494-20714fcbc3eb",
   "metadata": {},
   "outputs": [],
   "source": [
    "x = [32,3,5,4,4,3,2,6,4,5,6,7,8]"
   ]
  },
  {
   "cell_type": "code",
   "execution_count": 145,
   "id": "b4b22a6f-a583-4fd6-ba15-c28643eb6f10",
   "metadata": {},
   "outputs": [],
   "source": [
    "new_x=[]"
   ]
  },
  {
   "cell_type": "code",
   "execution_count": 147,
   "id": "e0ce72b4-600c-4f68-8489-9a6451e7ea1b",
   "metadata": {},
   "outputs": [],
   "source": [
    "for num in x:\n",
    "    if num not in new_x:\n",
    "        new_x.append(num)"
   ]
  },
  {
   "cell_type": "code",
   "execution_count": 149,
   "id": "c3203d0d-ade5-4d08-b4c4-9e3494a158a4",
   "metadata": {},
   "outputs": [
    {
     "name": "stdout",
     "output_type": "stream",
     "text": [
      "[32, 3, 5, 4, 2, 6, 7, 8]\n"
     ]
    }
   ],
   "source": [
    "print(new_x)"
   ]
  },
  {
   "cell_type": "code",
   "execution_count": 151,
   "id": "6fa0e022-6b0f-439b-9c51-ed3fdfdfa741",
   "metadata": {},
   "outputs": [],
   "source": [
    "lst = [1,2,[3,4],[5,[100,200,['Data Science']],23,11],1,7]"
   ]
  },
  {
   "cell_type": "code",
   "execution_count": 163,
   "id": "61b6e26d-4a48-4d47-a193-7fe3e3be9df5",
   "metadata": {
    "scrolled": true
   },
   "outputs": [
    {
     "data": {
      "text/plain": [
       "['Data Science']"
      ]
     },
     "execution_count": 163,
     "metadata": {},
     "output_type": "execute_result"
    }
   ],
   "source": [
    "lst[3][1][2]"
   ]
  },
  {
   "cell_type": "code",
   "execution_count": 165,
   "id": "a92c7811-0c21-418d-95c1-3c7e1d972eb6",
   "metadata": {},
   "outputs": [],
   "source": [
    "x = [2,4,5,6,7,1,6,8]"
   ]
  },
  {
   "cell_type": "code",
   "execution_count": 167,
   "id": "cadd1714-c707-4fce-ad20-b642694d051f",
   "metadata": {},
   "outputs": [],
   "source": [
    "y = [3,4,5,6,0,3,9] "
   ]
  },
  {
   "cell_type": "code",
   "execution_count": 191,
   "id": "57539de5-cc24-4400-84a6-087e71302449",
   "metadata": {},
   "outputs": [],
   "source": [
    "new=[]"
   ]
  },
  {
   "cell_type": "code",
   "execution_count": 193,
   "id": "08ae5c16-bd1f-4052-aacc-0b743f5241c9",
   "metadata": {},
   "outputs": [],
   "source": [
    "for num in x:\n",
    "    if num not in y:\n",
    "        new.append(num)    "
   ]
  },
  {
   "cell_type": "code",
   "execution_count": 195,
   "id": "080a390e-3b1b-4a7b-ac9c-1b41fc0c3b98",
   "metadata": {},
   "outputs": [],
   "source": [
    "for num in y:\n",
    "    if num not in x:\n",
    "        new.append(num)"
   ]
  },
  {
   "cell_type": "code",
   "execution_count": 197,
   "id": "983b71c3-cde8-4524-b8bc-78518b89d4a9",
   "metadata": {},
   "outputs": [
    {
     "name": "stdout",
     "output_type": "stream",
     "text": [
      "[2, 7, 1, 8, 3, 0, 3, 9]\n"
     ]
    }
   ],
   "source": [
    "print(new)"
   ]
  },
  {
   "cell_type": "code",
   "execution_count": 217,
   "id": "f6829619-dff2-4586-8eae-8e0fd66d018c",
   "metadata": {},
   "outputs": [],
   "source": [
    "x = [4,67,8, 'None', 32, 'Missing', 21]"
   ]
  },
  {
   "cell_type": "code",
   "execution_count": 239,
   "id": "7aa3a156-24cd-4f46-a3d6-c942fdd9adde",
   "metadata": {},
   "outputs": [],
   "source": [
    "replacement=0"
   ]
  },
  {
   "cell_type": "code",
   "execution_count": 249,
   "id": "e9993892-1253-46db-9569-edb8a9e39d62",
   "metadata": {},
   "outputs": [
    {
     "data": {
      "text/plain": [
       "[4, 67, 8, 0, 32, 'Missing', 21]"
      ]
     },
     "execution_count": 249,
     "metadata": {},
     "output_type": "execute_result"
    }
   ],
   "source": [
    "x[3]=replacement\n",
    "x"
   ]
  },
  {
   "cell_type": "code",
   "execution_count": 251,
   "id": "12315397-a45b-40d8-ad18-81b3bc2e62f8",
   "metadata": {},
   "outputs": [
    {
     "data": {
      "text/plain": [
       "[4, 67, 8, 0, 32, 0, 21]"
      ]
     },
     "execution_count": 251,
     "metadata": {},
     "output_type": "execute_result"
    }
   ],
   "source": [
    "x[5]=replacement\n",
    "x"
   ]
  },
  {
   "cell_type": "code",
   "execution_count": 253,
   "id": "a525337a-4df3-49d9-b6b5-cbc61f11dcc1",
   "metadata": {},
   "outputs": [],
   "source": [
    "x = [32, 3, 5, 4, 4, 3, 2, 6, 4, 5, 6, 7, 8]"
   ]
  },
  {
   "cell_type": "code",
   "execution_count": 255,
   "id": "9e8916a1-7348-4dd2-8dda-d7feb1d5425c",
   "metadata": {
    "scrolled": true
   },
   "outputs": [
    {
     "data": {
      "text/plain": [
       "[32, 2, 3, 4, 5, 6, 7, 8]"
      ]
     },
     "execution_count": 255,
     "metadata": {},
     "output_type": "execute_result"
    }
   ],
   "source": [
    "new_list = list(set(x))\n",
    "new_list"
   ]
  },
  {
   "cell_type": "code",
   "execution_count": 261,
   "id": "dff7dad4-ed7e-42c3-96e7-c000ccac8441",
   "metadata": {},
   "outputs": [
    {
     "data": {
      "text/plain": [
       "{0, 1, 2, 3, 7, 8, 9}"
      ]
     },
     "execution_count": 261,
     "metadata": {},
     "output_type": "execute_result"
    }
   ],
   "source": [
    "set([2,4,5,6,7,1,6,8]) ^ set([3,4,5,6,0,3,9])"
   ]
  },
  {
   "cell_type": "code",
   "execution_count": 6,
   "id": "9786822a-6d0b-487f-ab3a-1afcfd499272",
   "metadata": {},
   "outputs": [],
   "source": [
    "d = {'section':{'production':['wheel','tyre',{'engine':['pistons','valves','cylinder']}, 'door']}, 'development':'gearbox'}"
   ]
  },
  {
   "cell_type": "code",
   "execution_count": 8,
   "id": "500d3f80-aefe-4b18-841d-82f1d9413404",
   "metadata": {},
   "outputs": [
    {
     "data": {
      "text/plain": [
       "dict_values([{'production': ['wheel', 'tyre', {'engine': ['pistons', 'valves', 'cylinder']}, 'door']}, 'gearbox'])"
      ]
     },
     "execution_count": 8,
     "metadata": {},
     "output_type": "execute_result"
    }
   ],
   "source": [
    "d.values()"
   ]
  },
  {
   "cell_type": "code",
   "execution_count": 12,
   "id": "92d0892c-80b1-43f5-bee8-52252d3ca6d1",
   "metadata": {},
   "outputs": [],
   "source": [
    "number=1994"
   ]
  },
  {
   "cell_type": "code",
   "execution_count": 16,
   "id": "ab97e50f-7ce3-4efc-8869-d13f380db349",
   "metadata": {
    "scrolled": true
   },
   "outputs": [
    {
     "data": {
      "text/plain": [
       "[1, 9, 9, 4]"
      ]
     },
     "execution_count": 16,
     "metadata": {},
     "output_type": "execute_result"
    }
   ],
   "source": [
    "lst1 = [int(digit) for digit in str(number)]\n",
    "lst1"
   ]
  },
  {
   "cell_type": "code",
   "execution_count": 2,
   "id": "6b6ff9b2-c858-497a-bda2-ff2bacf2aed2",
   "metadata": {},
   "outputs": [],
   "source": [
    "careers = ['programmer', 'truck driver', 'doctor', 'teacher']"
   ]
  },
  {
   "cell_type": "code",
   "execution_count": 10,
   "id": "e67263c5-c1e7-46f2-b61e-7ba19757a72b",
   "metadata": {},
   "outputs": [
    {
     "data": {
      "text/plain": [
       "'programmer'"
      ]
     },
     "execution_count": 10,
     "metadata": {},
     "output_type": "execute_result"
    }
   ],
   "source": [
    "careers[0]"
   ]
  },
  {
   "cell_type": "code",
   "execution_count": 14,
   "id": "5743c5ea-0b8c-4d77-af3d-d4200a2c87e9",
   "metadata": {
    "scrolled": true
   },
   "outputs": [
    {
     "data": {
      "text/plain": [
       "0"
      ]
     },
     "execution_count": 14,
     "metadata": {},
     "output_type": "execute_result"
    }
   ],
   "source": [
    "careers.index('programmer')"
   ]
  },
  {
   "cell_type": "code",
   "execution_count": 18,
   "id": "117ba022-ce60-4d3e-a3b8-6870e0013fb6",
   "metadata": {},
   "outputs": [],
   "source": [
    "x='programmer'"
   ]
  },
  {
   "cell_type": "code",
   "execution_count": 28,
   "id": "bc8bd558-e509-4125-99a6-efd218214ab8",
   "metadata": {},
   "outputs": [
    {
     "name": "stdout",
     "output_type": "stream",
     "text": [
      "career programmer is in careers\n"
     ]
    }
   ],
   "source": [
    "if x in careers:\n",
    "    print(f'career {x} is in careers')"
   ]
  },
  {
   "cell_type": "code",
   "execution_count": 30,
   "id": "42cf59e3-10da-4ebf-aec7-76a6f5e618ba",
   "metadata": {},
   "outputs": [
    {
     "data": {
      "text/plain": [
       "['programmer', 'truck driver', 'doctor', 'teacher', 'analyst']"
      ]
     },
     "execution_count": 30,
     "metadata": {},
     "output_type": "execute_result"
    }
   ],
   "source": [
    "careers.append('analyst')\n",
    "careers"
   ]
  },
  {
   "cell_type": "code",
   "execution_count": 32,
   "id": "11de283c-3b8a-4bed-85ac-c22991a0a98a",
   "metadata": {},
   "outputs": [],
   "source": [
    "careers.insert(0, 'data scientist')"
   ]
  },
  {
   "cell_type": "code",
   "execution_count": 34,
   "id": "586427ea-08dd-4b7e-a340-8d2a3ad141b5",
   "metadata": {},
   "outputs": [
    {
     "data": {
      "text/plain": [
       "['data scientist',\n",
       " 'programmer',\n",
       " 'truck driver',\n",
       " 'doctor',\n",
       " 'teacher',\n",
       " 'analyst']"
      ]
     },
     "execution_count": 34,
     "metadata": {},
     "output_type": "execute_result"
    }
   ],
   "source": [
    "careers"
   ]
  },
  {
   "cell_type": "code",
   "execution_count": 36,
   "id": "a65c5b5f-52ee-4ced-a356-e832288e5395",
   "metadata": {},
   "outputs": [
    {
     "name": "stdout",
     "output_type": "stream",
     "text": [
      "analyst\n",
      "data scientist\n",
      "doctor\n",
      "programmer\n",
      "teacher\n",
      "truck driver\n"
     ]
    }
   ],
   "source": [
    "for career in sorted(careers):\n",
    "    print(career)"
   ]
  },
  {
   "cell_type": "code",
   "execution_count": 38,
   "id": "696f972b-f1ec-45ab-a237-e445f6645602",
   "metadata": {},
   "outputs": [
    {
     "name": "stdout",
     "output_type": "stream",
     "text": [
      "data scientist\n",
      "programmer\n",
      "truck driver\n",
      "doctor\n",
      "teacher\n",
      "analyst\n"
     ]
    }
   ],
   "source": [
    "for career in careers:\n",
    "    print(career)"
   ]
  },
  {
   "cell_type": "code",
   "execution_count": 40,
   "id": "133f6aeb-450d-4ef2-b0a5-b5c1755982e2",
   "metadata": {
    "scrolled": true
   },
   "outputs": [
    {
     "name": "stdout",
     "output_type": "stream",
     "text": [
      "truck driver\n",
      "teacher\n",
      "programmer\n",
      "doctor\n",
      "data scientist\n",
      "analyst\n"
     ]
    }
   ],
   "source": [
    "for career in sorted(careers, reverse=True):\n",
    "    print(career)"
   ]
  },
  {
   "cell_type": "code",
   "execution_count": 44,
   "id": "9316eac9-d59c-453f-9ce9-b7f76b8407a1",
   "metadata": {},
   "outputs": [],
   "source": [
    "alphabet = ['a', 'b', 'c', 'd', 'e', 'f', 'g', 'h', 'i', 'j', 'k', 'l']"
   ]
  },
  {
   "cell_type": "code",
   "execution_count": 64,
   "id": "d036ff3d-ca39-4e38-99ba-f38dd5a64708",
   "metadata": {
    "scrolled": true
   },
   "outputs": [
    {
     "data": {
      "text/plain": [
       "['a', 'b', 'c', 'd', 'e', 'f', 'g', 'h', 'i', 'j']"
      ]
     },
     "execution_count": 64,
     "metadata": {},
     "output_type": "execute_result"
    }
   ],
   "source": [
    "new_alphabet=alphabet[0:10]\n",
    "new_alphabet"
   ]
  },
  {
   "cell_type": "code",
   "execution_count": 66,
   "id": "98b2d118-1c24-44ab-bdcb-806546a23c39",
   "metadata": {},
   "outputs": [
    {
     "data": {
      "text/plain": [
       "['a', 'b', 'c']"
      ]
     },
     "execution_count": 66,
     "metadata": {},
     "output_type": "execute_result"
    }
   ],
   "source": [
    "alphabet[0:3]"
   ]
  },
  {
   "cell_type": "code",
   "execution_count": 68,
   "id": "f0c2ef04-2040-4bd4-8784-448dd5c8ad53",
   "metadata": {},
   "outputs": [
    {
     "data": {
      "text/plain": [
       "['e', 'f', 'g']"
      ]
     },
     "execution_count": 68,
     "metadata": {},
     "output_type": "execute_result"
    }
   ],
   "source": [
    "alphabet[4:7]"
   ]
  },
  {
   "cell_type": "code",
   "execution_count": 70,
   "id": "dba01fe7-1409-4933-b306-1198b508ef52",
   "metadata": {
    "scrolled": true
   },
   "outputs": [
    {
     "data": {
      "text/plain": [
       "['f', 'g', 'h', 'i', 'j', 'k', 'l']"
      ]
     },
     "execution_count": 70,
     "metadata": {},
     "output_type": "execute_result"
    }
   ],
   "source": [
    "alphabet[5:]"
   ]
  },
  {
   "cell_type": "code",
   "execution_count": 76,
   "id": "7e959e13-7f17-423f-80bc-ceaca9abb4e1",
   "metadata": {},
   "outputs": [],
   "source": [
    "a='10'\n",
    "b=10"
   ]
  },
  {
   "cell_type": "code",
   "execution_count": 80,
   "id": "3d6cb6d1-b564-42e3-ba4d-87872f937136",
   "metadata": {},
   "outputs": [
    {
     "name": "stdout",
     "output_type": "stream",
     "text": [
      "True\n"
     ]
    }
   ],
   "source": [
    "if type(a) is str:\n",
    "    print(True)"
   ]
  },
  {
   "cell_type": "code",
   "execution_count": 84,
   "id": "d6967fb3-d543-4e0c-b218-85160af2d4d8",
   "metadata": {
    "scrolled": true
   },
   "outputs": [
    {
     "name": "stdout",
     "output_type": "stream",
     "text": [
      "False\n"
     ]
    }
   ],
   "source": [
    "if type(b) is str:\n",
    "    print(True)\n",
    "else:\n",
    "    print(False)"
   ]
  },
  {
   "cell_type": "code",
   "execution_count": 86,
   "id": "25c3c1b9-ef22-4370-ac6f-8c8d6815acc5",
   "metadata": {},
   "outputs": [],
   "source": [
    "sentence = 'St. Moritz is a nice location to visit over Christmas holidays!'"
   ]
  },
  {
   "cell_type": "code",
   "execution_count": 88,
   "id": "a2da1a4f-ead6-4006-925d-576c975faf9b",
   "metadata": {},
   "outputs": [],
   "source": [
    "key_check='holidays'"
   ]
  },
  {
   "cell_type": "code",
   "execution_count": 90,
   "id": "59d49104-6fed-43c7-8b31-a233b4948a0a",
   "metadata": {},
   "outputs": [
    {
     "name": "stdout",
     "output_type": "stream",
     "text": [
      "holidays is in sentence\n"
     ]
    }
   ],
   "source": [
    "if key_check in sentence:\n",
    "    print(f'{key_check} is in sentence')"
   ]
  },
  {
   "cell_type": "code",
   "execution_count": 148,
   "id": "695f2a64-52e8-4a33-83e6-22f312a690a2",
   "metadata": {},
   "outputs": [],
   "source": [
    "num= '4567'"
   ]
  },
  {
   "cell_type": "code",
   "execution_count": 150,
   "id": "df6c4243-6512-46db-9c16-a9e460b655a4",
   "metadata": {},
   "outputs": [
    {
     "data": {
      "text/plain": [
       "['4', '5', '6', '7']"
      ]
     },
     "execution_count": 150,
     "metadata": {},
     "output_type": "execute_result"
    }
   ],
   "source": [
    "newlist=list(num)\n",
    "newlist"
   ]
  },
  {
   "cell_type": "code",
   "execution_count": 160,
   "id": "00f864b0-c200-4dd7-81f7-bd29472b3a27",
   "metadata": {},
   "outputs": [
    {
     "data": {
      "text/plain": [
       "['4', '5', '6', '7']"
      ]
     },
     "execution_count": 160,
     "metadata": {},
     "output_type": "execute_result"
    }
   ],
   "source": [
    "newlist.sort()\n",
    "newlist"
   ]
  },
  {
   "cell_type": "code",
   "execution_count": 162,
   "id": "9b766496-7a72-4ce1-994a-bc604ca185ae",
   "metadata": {},
   "outputs": [
    {
     "data": {
      "text/plain": [
       "['7', '6', '5', '4']"
      ]
     },
     "execution_count": 162,
     "metadata": {},
     "output_type": "execute_result"
    }
   ],
   "source": [
    "newlist.sort(reverse=True)\n",
    "newlist"
   ]
  },
  {
   "cell_type": "code",
   "execution_count": 178,
   "id": "c82aac2b-7d5b-43d2-8178-d8bf8c1fe522",
   "metadata": {},
   "outputs": [],
   "source": [
    "data = {'part 1':['a','b'], 'part 2':['c','d']}"
   ]
  },
  {
   "cell_type": "code",
   "execution_count": 180,
   "id": "bc128652-1939-4612-954b-86e3ec19668d",
   "metadata": {},
   "outputs": [],
   "source": [
    "combinations=[]"
   ]
  },
  {
   "cell_type": "code",
   "execution_count": 182,
   "id": "cd90f335-534a-4791-a171-11861e7cb3d8",
   "metadata": {},
   "outputs": [],
   "source": [
    "for letter1 in data['part 1']:\n",
    "    for letter2 in data['part 2']:\n",
    "        combinations.append(letter1 + letter2)"
   ]
  },
  {
   "cell_type": "code",
   "execution_count": 184,
   "id": "eb06e168-1d35-4185-960b-ca1b3b93e797",
   "metadata": {
    "scrolled": true
   },
   "outputs": [
    {
     "name": "stdout",
     "output_type": "stream",
     "text": [
      "ac\n",
      "ad\n",
      "bc\n",
      "bd\n"
     ]
    }
   ],
   "source": [
    "for combination in combinations:\n",
    "    print(combination)"
   ]
  },
  {
   "cell_type": "code",
   "execution_count": 186,
   "id": "8e08f9d3-4c73-476d-a2cf-c527c2783d06",
   "metadata": {},
   "outputs": [],
   "source": [
    "electricity_bill = {\n",
    "    'January': 232,\n",
    "    'February': 245,\n",
    "    'March': 267,\n",
    "    'April': 223,\n",
    "    'May': 257,\n",
    "    'June': 284,\n",
    "    'July': 243,\n",
    "    'August': 120,\n",
    "    'September': 245,\n",
    "    'October': 278,\n",
    "    'November': 345,\n",
    "    'December': 326,\n",
    "}"
   ]
  },
  {
   "cell_type": "code",
   "execution_count": 188,
   "id": "46baf087-02f6-44c4-80fd-cd0eeeb362ce",
   "metadata": {},
   "outputs": [
    {
     "data": {
      "text/plain": [
       "dict_values([232, 245, 267, 223, 257, 284, 243, 120, 245, 278, 345, 326])"
      ]
     },
     "execution_count": 188,
     "metadata": {},
     "output_type": "execute_result"
    }
   ],
   "source": [
    "electricity_bill.values()"
   ]
  },
  {
   "cell_type": "code",
   "execution_count": 190,
   "id": "c75f1976-7f6a-4b47-99c6-513b07afd4bc",
   "metadata": {},
   "outputs": [
    {
     "data": {
      "text/plain": [
       "3065"
      ]
     },
     "execution_count": 190,
     "metadata": {},
     "output_type": "execute_result"
    }
   ],
   "source": [
    "sum(electricity_bill.values())"
   ]
  },
  {
   "cell_type": "code",
   "execution_count": 198,
   "id": "58edd96d-3b7f-44ed-a17f-8bfebd20b1bd",
   "metadata": {},
   "outputs": [
    {
     "data": {
      "text/plain": [
       "255"
      ]
     },
     "execution_count": 198,
     "metadata": {},
     "output_type": "execute_result"
    }
   ],
   "source": [
    "average_electricity=3065//12\n",
    "average_electricity"
   ]
  },
  {
   "cell_type": "code",
   "execution_count": 200,
   "id": "6c2f89a7-9d0c-4941-9edf-2de284cb0bf0",
   "metadata": {},
   "outputs": [],
   "source": [
    "lst1= [91, 64, 47, 82, 67, 96]"
   ]
  },
  {
   "cell_type": "code",
   "execution_count": 202,
   "id": "97ce1f27-78e0-45d8-8943-bb3cc8c183d4",
   "metadata": {},
   "outputs": [],
   "source": [
    "letters=[]"
   ]
  },
  {
   "cell_type": "code",
   "execution_count": 204,
   "id": "63c200dd-1050-4aa1-9b3f-89327c33b318",
   "metadata": {},
   "outputs": [],
   "source": [
    "for grade in lst1:\n",
    "    if grade > 90:\n",
    "        letters.append('A')\n",
    "    elif 80 <= grade <= 90:\n",
    "        letters.append('B')\n",
    "    elif 70 <= grade < 80:\n",
    "        letters.append('C')\n",
    "    elif 60 <= grade < 70:\n",
    "        letters.append('D')\n",
    "    else:\n",
    "        letters.append('F')"
   ]
  },
  {
   "cell_type": "code",
   "execution_count": 206,
   "id": "766645bb-5478-489e-a989-ddb9d999b86e",
   "metadata": {
    "scrolled": true
   },
   "outputs": [
    {
     "name": "stdout",
     "output_type": "stream",
     "text": [
      "[91, 64, 47, 82, 67, 96]\n",
      "['A', 'D', 'F', 'B', 'D', 'A']\n"
     ]
    }
   ],
   "source": [
    "print(lst1)\n",
    "print(letters)"
   ]
  },
  {
   "cell_type": "code",
   "execution_count": 208,
   "id": "fd1ad733-e4f7-454d-bbe2-065a600623ce",
   "metadata": {},
   "outputs": [],
   "source": [
    "temperature = {\n",
    "        'June': [25,25,26,27,25,25,24,27,28,28,31,32,33],\n",
    "        'July': [34,34,36,39,39,38,39,37,39,41,41,39,37],\n",
    "        'August': [37,37,36,37,35,35,34,37,38,34,32,33,31],\n",
    "}"
   ]
  },
  {
   "cell_type": "code",
   "execution_count": 220,
   "id": "bf271145-5246-432a-bf7b-5b588eead921",
   "metadata": {},
   "outputs": [],
   "source": [
    "hottest_temp = None\n",
    "coldest_temp = None\n",
    "hottest_temp= []\n",
    "coldest_temp= []"
   ]
  },
  {
   "cell_type": "code",
   "execution_count": 232,
   "id": "b9533874-bcdf-44ae-b3be-526b30097aa4",
   "metadata": {},
   "outputs": [],
   "source": [
    "for month, temp in temperature.items():\n",
    "    if hottest_temp is None or temp> hottest_temp:\n",
    "        hottest_temp = temp\n",
    "        hottest_month = month"
   ]
  },
  {
   "cell_type": "code",
   "execution_count": 234,
   "id": "c1155a0e-644b-45fd-a1a6-2d37aa9aec29",
   "metadata": {},
   "outputs": [],
   "source": [
    "for month, temp in temperature.items():\n",
    "    if coldest_temp is None or temp < coldest_temp:\n",
    "            coldest_temp = temp\n",
    "            coldest_month = month"
   ]
  },
  {
   "cell_type": "code",
   "execution_count": 238,
   "id": "a7e7298c-b3ff-439c-a09e-f97cd098dfba",
   "metadata": {
    "scrolled": true
   },
   "outputs": [
    {
     "name": "stdout",
     "output_type": "stream",
     "text": [
      "the hottest day is in August with [37, 37, 36, 37, 35, 35, 34, 37, 38, 34, 32, 33, 31]\n"
     ]
    }
   ],
   "source": [
    "print(f'the hottest day is in {hottest_month} with {hottest_temp}')"
   ]
  },
  {
   "cell_type": "code",
   "execution_count": 252,
   "id": "800bc163-70ec-4c17-9778-36ade54a8749",
   "metadata": {},
   "outputs": [],
   "source": [
    "squares_of_evens = [num ** 2 for num in range(1, 11) if num % 2 == 0]"
   ]
  },
  {
   "cell_type": "code",
   "execution_count": 254,
   "id": "e4d2d0d7-6d3a-4bdd-8473-a131f4e68c61",
   "metadata": {},
   "outputs": [
    {
     "data": {
      "text/plain": [
       "[4, 16, 36, 64, 100]"
      ]
     },
     "execution_count": 254,
     "metadata": {},
     "output_type": "execute_result"
    }
   ],
   "source": [
    "squares_of_evens"
   ]
  },
  {
   "cell_type": "code",
   "execution_count": 240,
   "id": "34019419-b17c-4829-9fa8-c22387d525f2",
   "metadata": {
    "scrolled": true
   },
   "outputs": [
    {
     "name": "stdout",
     "output_type": "stream",
     "text": [
      "2\n",
      "4\n",
      "6\n",
      "8\n",
      "10\n"
     ]
    }
   ],
   "source": [
    "for num in range(1, 11):\n",
    "    if num % 2 == 0:\n",
    "        print(num)"
   ]
  },
  {
   "cell_type": "code",
   "execution_count": 295,
   "id": "e222c1f7-ba47-405b-8d78-89df762dfc68",
   "metadata": {},
   "outputs": [],
   "source": [
    "list=[1,2,3,3,4,6,6]"
   ]
  },
  {
   "cell_type": "code",
   "execution_count": 297,
   "id": "fd25d2fa-48ce-4e66-bf12-d0a50541ec8a",
   "metadata": {},
   "outputs": [],
   "source": [
    "x = []"
   ]
  },
  {
   "cell_type": "code",
   "execution_count": 299,
   "id": "7eb64a05-a00a-4265-840d-31fb4d621de9",
   "metadata": {},
   "outputs": [],
   "source": [
    "for a in list:\n",
    "    if a not in x:\n",
    "        x.append(a)"
   ]
  },
  {
   "cell_type": "code",
   "execution_count": 301,
   "id": "bb181994-1185-42e2-8a90-6119cb4e9d09",
   "metadata": {
    "scrolled": true
   },
   "outputs": [
    {
     "name": "stdout",
     "output_type": "stream",
     "text": [
      "[1, 2, 3, 4, 6]\n"
     ]
    }
   ],
   "source": [
    "print(x)"
   ]
  },
  {
   "cell_type": "code",
   "execution_count": 303,
   "id": "a6477179-d814-4ee6-8d11-a1a060428040",
   "metadata": {},
   "outputs": [],
   "source": [
    "list=[1,2,3,3,4,6,6]"
   ]
  },
  {
   "cell_type": "code",
   "execution_count": 305,
   "id": "97d59a8d-38ee-4cd5-8c9f-25e238ec7fb6",
   "metadata": {},
   "outputs": [
    {
     "data": {
      "text/plain": [
       "25"
      ]
     },
     "execution_count": 305,
     "metadata": {},
     "output_type": "execute_result"
    }
   ],
   "source": [
    "sum(list)"
   ]
  },
  {
   "cell_type": "code",
   "execution_count": 309,
   "id": "e93b8856-ec41-4754-a071-33a5cc0d24fa",
   "metadata": {},
   "outputs": [
    {
     "data": {
      "text/plain": [
       "3.5714285714285716"
      ]
     },
     "execution_count": 309,
     "metadata": {},
     "output_type": "execute_result"
    }
   ],
   "source": [
    "average=sum(list)/len(list)\n",
    "average"
   ]
  },
  {
   "cell_type": "code",
   "execution_count": 311,
   "id": "a612a568-5c8f-463f-a6f0-b025d87c03d9",
   "metadata": {},
   "outputs": [],
   "source": [
    "order_list = [\n",
    "    'fries', 'burger', 'eggs', 'pasta', 'pizza', 'schnitzel', 'salad', 'water',\n",
    "    'soda', 'wine', 'eggs', 'pasta', 'pizza', 'schnitzel', 'salad', 'water',\n",
    "    'soda', 'wine', 'pizza', 'schnitzel', 'soda', 'wine', 'lemonade', 'steak',\n",
    "    'pasta', 'salad', 'fries', 'burger', 'water', 'burger'\n",
    "]"
   ]
  },
  {
   "cell_type": "code",
   "execution_count": 329,
   "id": "b683d198-5a36-4950-94de-bb691b42f5f5",
   "metadata": {},
   "outputs": [],
   "source": [
    "customers = {\n",
    "'customer 1':{'name': 'John Smith', 'city': 'New York', 'nr_or_purchases': 3, 'items':['coffee', 'cookies', 'milk']},\n",
    "'customer 2':{'name': 'Rebeca Collins', 'city': 'New York', 'nr_or_purchases': 1, 'items':['sugar']},\n",
    "'customer 3':{'name': 'Edward Matthews', 'city': 'Boston', 'nr_or_purchases': 4, 'items':['bananas', 'apples', 'oranges', 'cherries' ]},\n",
    "'customer 4':{'name': 'Maria Simmons', 'city': 'Boston', 'nr_or_purchases': 3, 'items':['ham', 'cheese', 'butter']}}"
   ]
  },
  {
   "cell_type": "code",
   "execution_count": 339,
   "id": "2d20a79c-c140-4281-9a51-e61878aae44b",
   "metadata": {},
   "outputs": [],
   "source": [
    "customers['customer 3']['items'].append('berries')"
   ]
  },
  {
   "cell_type": "code",
   "execution_count": 341,
   "id": "b692ab01-8b5c-4e27-8e89-73ff37c4fb51",
   "metadata": {},
   "outputs": [],
   "source": [
    "customers['customer 3']['nr_or_purchases'] += 1"
   ]
  },
  {
   "cell_type": "code",
   "execution_count": 343,
   "id": "bc8ebc26-871c-4f71-a8a6-fec0b63a43c2",
   "metadata": {
    "scrolled": true
   },
   "outputs": [
    {
     "data": {
      "text/plain": [
       "{'name': 'Rebeca Collins',\n",
       " 'city': 'New York',\n",
       " 'nr_or_purchases': 1,\n",
       " 'items': ['sugar']}"
      ]
     },
     "execution_count": 343,
     "metadata": {},
     "output_type": "execute_result"
    }
   ],
   "source": [
    "customers.pop('customer 2')"
   ]
  },
  {
   "cell_type": "code",
   "execution_count": 345,
   "id": "52cb1ac4-d05b-48e5-93a8-a4b4da152d4a",
   "metadata": {},
   "outputs": [],
   "source": [
    "customers['customer 5'] = {\n",
    "    'name': 'Sophia Willis',\n",
    "    'city': 'Alabama',\n",
    "    'nr_or_purchases': 4,\n",
    "    'items': ['sugar', 'milk', 'butter', 'flour']\n",
    "}"
   ]
  },
  {
   "cell_type": "code",
   "execution_count": 347,
   "id": "35ff7d58-607c-4ba4-b4a7-32cd56280882",
   "metadata": {},
   "outputs": [],
   "source": [
    "for customer in customers.values():\n",
    "    if customer['nr_or_purchases'] > 3:\n",
    "        customer['promo'] = 'coupon'"
   ]
  },
  {
   "cell_type": "code",
   "execution_count": 349,
   "id": "24a2fbe7-0afc-4a6a-9a74-5a866760d37e",
   "metadata": {},
   "outputs": [],
   "source": [
    "for customer in customers.values():\n",
    "    if customer['city'] == 'Boston':\n",
    "                customer['promo'] = '10% discount'\n",
    "        "
   ]
  },
  {
   "cell_type": "code",
   "execution_count": 351,
   "id": "3d304a78-0061-4bb4-b7cd-5f2e98479239",
   "metadata": {
    "scrolled": true
   },
   "outputs": [
    {
     "name": "stdout",
     "output_type": "stream",
     "text": [
      "{'customer 1': {'name': 'John Smith', 'city': 'New York', 'nr_or_purchases': 3, 'items': ['coffee', 'cookies', 'milk']}, 'customer 3': {'name': 'Edward Matthews', 'city': 'Boston', 'nr_or_purchases': 5, 'items': ['bananas', 'apples', 'oranges', 'cherries', 'berries', 'berries'], 'promo': '10% discount'}, 'customer 4': {'name': 'Maria Simmons', 'city': 'Boston', 'nr_or_purchases': 3, 'items': ['ham', 'cheese', 'butter'], 'promo': '10% discount'}, 'customer 5': {'name': 'Sophia Willis', 'city': 'Alabama', 'nr_or_purchases': 4, 'items': ['sugar', 'milk', 'butter', 'flour'], 'promo': 'coupon'}}\n"
     ]
    }
   ],
   "source": [
    "print(customers)"
   ]
  },
  {
   "cell_type": "code",
   "execution_count": 355,
   "id": "a9e4a414-7acc-4776-b84f-bf92541ee587",
   "metadata": {
    "scrolled": true
   },
   "outputs": [
    {
     "name": "stdin",
     "output_type": "stream",
     "text": [
      "Please enter a sentence:  Hello I am Magda from Athens\n"
     ]
    }
   ],
   "source": [
    "sentence = input(\"Please enter a sentence: \")"
   ]
  },
  {
   "cell_type": "code",
   "execution_count": 379,
   "id": "f1315908-e9ee-4224-921e-9235f435bf85",
   "metadata": {
    "scrolled": true
   },
   "outputs": [
    {
     "name": "stdout",
     "output_type": "stream",
     "text": [
      "4\n"
     ]
    }
   ],
   "source": [
    "u = sum(i.isupper() for i in sentence)\n",
    "print(u)"
   ]
  },
  {
   "cell_type": "code",
   "execution_count": 377,
   "id": "fecc1e94-e1f4-4f68-be84-07510b53f9a0",
   "metadata": {
    "scrolled": true
   },
   "outputs": [
    {
     "name": "stdout",
     "output_type": "stream",
     "text": [
      "19\n"
     ]
    }
   ],
   "source": [
    "x = sum(i.islower() for i in sentence)\n",
    "print(x)"
   ]
  },
  {
   "cell_type": "code",
   "execution_count": 34,
   "id": "4d38f50b-add4-48c8-b8d6-adb5616484a9",
   "metadata": {
    "scrolled": true
   },
   "outputs": [],
   "source": [
    "cubes = [x**3 for x in range(1, 11)]"
   ]
  },
  {
   "cell_type": "code",
   "execution_count": 383,
   "id": "2fe6d20f-29a1-42ba-b463-9aa857a2e1ee",
   "metadata": {},
   "outputs": [
    {
     "name": "stdout",
     "output_type": "stream",
     "text": [
      "1\n",
      "8\n",
      "27\n",
      "64\n",
      "125\n",
      "216\n",
      "343\n",
      "512\n",
      "729\n",
      "1000\n"
     ]
    }
   ],
   "source": [
    "for cube in cubes:\n",
    "    print(cube)"
   ]
  }
 ],
 "metadata": {
  "kernelspec": {
   "display_name": "Python 3 (ipykernel)",
   "language": "python",
   "name": "python3"
  },
  "language_info": {
   "codemirror_mode": {
    "name": "ipython",
    "version": 3
   },
   "file_extension": ".py",
   "mimetype": "text/x-python",
   "name": "python",
   "nbconvert_exporter": "python",
   "pygments_lexer": "ipython3",
   "version": "3.12.4"
  }
 },
 "nbformat": 4,
 "nbformat_minor": 5
}
